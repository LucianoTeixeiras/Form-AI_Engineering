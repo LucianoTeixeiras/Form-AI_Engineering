{
 "cells": [
  {
   "cell_type": "markdown",
   "metadata": {
    "application/vnd.databricks.v1+cell": {
     "cellMetadata": {},
     "inputWidgets": {},
     "nuid": "69a86727-953e-4ebf-b1d2-3c594e6565be",
     "showTitle": false,
     "tableResultSettingsMap": {},
     "title": ""
    }
   },
   "source": [
    "# MLflow Tracking"
   ]
  },
  {
   "cell_type": "markdown",
   "metadata": {
    "application/vnd.databricks.v1+cell": {
     "cellMetadata": {},
     "inputWidgets": {},
     "nuid": "153fcc58-3845-4669-a7bd-f63f63f1b871",
     "showTitle": false,
     "tableResultSettingsMap": {},
     "title": ""
    }
   },
   "source": [
    "\n",
    "# Demonstração de MLflow\n",
    "Este notebook demonstra como utilizar o **MLflow** para rastrear experimentos de machine learning, registrar parâmetros, métricas, artefatos e gerenciar modelos registrados. A seguir estão os principais tópicos abordados:\n",
    "\n",
    "1. **Rastreamento de Experimentos**: Rastreando os parâmetros, métricas e artefatos de modelos treinados.\n",
    "2. **Logging Automático**: Automatizando o processo de registro no MLflow.\n"
   ]
  },
  {
   "cell_type": "markdown",
   "metadata": {
    "application/vnd.databricks.v1+cell": {
     "cellMetadata": {},
     "inputWidgets": {},
     "nuid": "44688fe0-9ce3-4351-a6d8-8765a6771b81",
     "showTitle": false,
     "tableResultSettingsMap": {},
     "title": ""
    }
   },
   "source": [
    "# Imports"
   ]
  },
  {
   "cell_type": "code",
   "execution_count": 0,
   "metadata": {
    "application/vnd.databricks.v1+cell": {
     "cellMetadata": {
      "byteLimit": 2048000,
      "rowLimit": 10000
     },
     "inputWidgets": {},
     "nuid": "e36877b1-e8a6-4b0a-a591-de069198bb0b",
     "showTitle": false,
     "tableResultSettingsMap": {},
     "title": ""
    }
   },
   "outputs": [],
   "source": [
    "import mlflow\n",
    "import mlflow.sklearn\n",
    "import matplotlib.pyplot as plt\n",
    "import pandas as pd\n",
    "import seaborn as sns\n",
    "from sklearn.datasets import load_iris\n",
    "from sklearn.ensemble import RandomForestClassifier\n",
    "from sklearn.metrics import accuracy_score, confusion_matrix, classification_report\n",
    "from sklearn.model_selection import train_test_split\n",
    "import pdb\n"
   ]
  },
  {
   "cell_type": "code",
   "execution_count": 0,
   "metadata": {
    "application/vnd.databricks.v1+cell": {
     "cellMetadata": {
      "byteLimit": 2048000,
      "rowLimit": 10000
     },
     "collapsed": true,
     "inputWidgets": {},
     "nuid": "8182a131-18c4-4fc3-8735-468e40fd6c7e",
     "showTitle": false,
     "tableResultSettingsMap": {},
     "title": ""
    }
   },
   "outputs": [],
   "source": [
    "experiment_id = \"100091573071916\"  # ID do experimento\n",
    "mlflow.set_experiment(experiment_id=experiment_id)"
   ]
  },
  {
   "cell_type": "markdown",
   "metadata": {
    "application/vnd.databricks.v1+cell": {
     "cellMetadata": {},
     "inputWidgets": {},
     "nuid": "71b3af37-23c4-49ca-821d-6d6da49d15d8",
     "showTitle": false,
     "tableResultSettingsMap": {},
     "title": ""
    }
   },
   "source": [
    "# Carregamento de dados"
   ]
  },
  {
   "cell_type": "code",
   "execution_count": 0,
   "metadata": {
    "application/vnd.databricks.v1+cell": {
     "cellMetadata": {
      "byteLimit": 2048000,
      "rowLimit": 10000
     },
     "inputWidgets": {},
     "nuid": "e098c6aa-7f67-4567-8a7b-d5cd4a0efe43",
     "showTitle": false,
     "tableResultSettingsMap": {},
     "title": ""
    }
   },
   "outputs": [],
   "source": [
    "# Carregar dataset\n",
    "data = load_iris()\n",
    "X, y = data.data, data.target\n",
    "\n",
    "# Dividir dataset\n",
    "X_train, X_test, y_train, y_test = train_test_split(X, y, test_size=0.2, random_state=42)"
   ]
  },
  {
   "cell_type": "markdown",
   "metadata": {
    "application/vnd.databricks.v1+cell": {
     "cellMetadata": {},
     "inputWidgets": {},
     "nuid": "f7cb2ad7-8a04-4137-8e9a-c22b3355cbbe",
     "showTitle": false,
     "tableResultSettingsMap": {},
     "title": ""
    }
   },
   "source": [
    "# MLflow Tracking"
   ]
  },
  {
   "cell_type": "code",
   "execution_count": 0,
   "metadata": {
    "application/vnd.databricks.v1+cell": {
     "cellMetadata": {
      "byteLimit": 2048000,
      "rowLimit": 10000
     },
     "inputWidgets": {},
     "nuid": "71b17683-534a-497e-937d-a8e836eaaf68",
     "showTitle": false,
     "tableResultSettingsMap": {},
     "title": ""
    }
   },
   "outputs": [],
   "source": [
    "\n",
    "# Inicializar execução do mlflow\n",
    "with mlflow.start_run():\n",
    "\n",
    "    pdb.set_trace()  # Pausar utilizando pdb\n",
    "\n",
    "    # Definir hiperparâmetros\n",
    "    n_estimators = 100\n",
    "    max_depth = 5\n",
    "\n",
    "    # Registrar parâmetros\n",
    "    mlflow.log_params({\n",
    "        \"n_estimators\": n_estimators,\n",
    "        \"max_depth\": max_depth,\n",
    "        \"dataset_size\": len(X)\n",
    "    })\n",
    "\n",
    "    # Treinar modelo\n",
    "    rf_classifier = RandomForestClassifier(\n",
    "        n_estimators=n_estimators, \n",
    "        max_depth=max_depth,\n",
    "        random_state=42\n",
    "    )\n",
    "    rf_classifier.fit(X_train, y_train)\n",
    "    \n",
    "    # Fazer previsões\n",
    "    y_pred = rf_classifier.predict(X_test)\n",
    "\n",
    "    # Registrar métricas\n",
    "    accuracy = accuracy_score(y_test, y_pred)\n",
    "    mlflow.log_metrics({\n",
    "        \"accuracy\": accuracy,\n",
    "        \"test_size\": len(X_test)\n",
    "    })\n",
    "\n",
    "    pdb.set_trace()  # Pausar pdb\n",
    "\n",
    "    # Criar e registrar visualização da importância das características\n",
    "    plt.figure(figsize=(10, 6))\n",
    "    feature_importance = pd.DataFrame({\n",
    "        'feature': data.feature_names,\n",
    "        'importance': rf_classifier.feature_importances_\n",
    "    }).sort_values('importance', ascending=False)\n",
    "\n",
    "    top_features = feature_importance.head(10)\n",
    "    plt.barh(top_features['feature'], top_features['importance'])\n",
    "    plt.title('Top Feature Importances')\n",
    "    plt.xlabel('Importance')\n",
    "    plt.tight_layout()\n",
    "    \n",
    "    # Salvar e registrar o gráfico de importância das características\n",
    "    plt.savefig('/tmp/feature_importance_iris.png')\n",
    "    mlflow.log_artifact('/tmp/feature_importance_iris.png')\n",
    "\n",
    "    # Criar e registrar visualização da matriz de confusão\n",
    "    plt.figure(figsize=(8, 6))\n",
    "    cm = confusion_matrix(y_test, y_pred)\n",
    "    sns.heatmap(cm, annot=True, fmt='d', cmap='Blues', xticklabels=data.target_names, yticklabels=data.target_names)\n",
    "    plt.title('Iris Classification Confusion Matrix')\n",
    "    plt.ylabel('True Label')\n",
    "    plt.xlabel('Predicted Label')\n",
    "    \n",
    "    # Salvar e registrar a matriz de confusão como um artefato\n",
    "    plt.savefig('/tmp/confusion_matrix_iris.png')\n",
    "    mlflow.log_artifact('/tmp/confusion_matrix_iris.png')\n",
    "\n",
    "    pdb.set_trace()\n",
    "    \n",
    "    # Registrar o modelo\n",
    "    mlflow.sklearn.log_model(\n",
    "        rf_classifier, \n",
    "        \"random_forest_model\",\n",
    "        signature=mlflow.models.signature.infer_signature(X_train, y_train)\n",
    "    )\n"
   ]
  },
  {
   "cell_type": "markdown",
   "metadata": {
    "application/vnd.databricks.v1+cell": {
     "cellMetadata": {},
     "inputWidgets": {},
     "nuid": "e3e1d9cc-f60b-4f8e-a751-433efde0ed89",
     "showTitle": false,
     "tableResultSettingsMap": {},
     "title": ""
    }
   },
   "source": [
    "\n",
    "## Seção 2: Auto-logging\n",
    "Nesta seção, utilizamos o recurso de **auto-logging** do MLflow para registrar automaticamente todos os parâmetros, métricas e artefatos de um modelo. O MLflow detecta automaticamente as informações relevantes e as registra no experimento configurado.\n"
   ]
  },
  {
   "cell_type": "code",
   "execution_count": 0,
   "metadata": {
    "application/vnd.databricks.v1+cell": {
     "cellMetadata": {
      "byteLimit": 2048000,
      "rowLimit": 10000
     },
     "inputWidgets": {},
     "nuid": "a5ef50fb-97c4-43e2-9704-60b3ae92ba11",
     "showTitle": false,
     "tableResultSettingsMap": {},
     "title": ""
    }
   },
   "outputs": [],
   "source": [
    "import mlflow\n",
    "import mlflow.sklearn\n",
    "from sklearn.ensemble import RandomForestClassifier\n",
    "from sklearn.datasets import load_iris\n",
    "from sklearn.model_selection import train_test_split\n",
    "\n",
    "# Enable auto logging\n",
    "mlflow.sklearn.autolog()\n",
    "\n",
    "# Train and log model with auto logging\n",
    "with mlflow.start_run():\n",
    "    model = RandomForestClassifier(n_estimators=150, max_depth=6, random_state=42)\n",
    "    model.fit(X_train, y_train)\n"
   ]
  }
 ],
 "metadata": {
  "application/vnd.databricks.v1+notebook": {
   "computePreferences": null,
   "dashboards": [],
   "environmentMetadata": null,
   "language": "python",
   "notebookMetadata": {
    "pythonIndentUnit": 4
   },
   "notebookName": "MLflow Prática",
   "widgets": {}
  },
  "language_info": {
   "name": "python"
  }
 },
 "nbformat": 4,
 "nbformat_minor": 0
}